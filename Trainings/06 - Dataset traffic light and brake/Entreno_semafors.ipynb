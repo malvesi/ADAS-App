{
 "cells": [
  {
   "cell_type": "markdown",
   "id": "7f56b4dc",
   "metadata": {},
   "source": [
    "<div style=\"width: 100%; clear: both;\">\n",
    "<div style=\"float: left; width: 50%;\">\n",
    "<img src=\"http://www.uoc.edu/portal/_resources/common/imatges/marca_UOC/UOC_Masterbrand.jpg\", align=\"left\">\n",
    "</div>\n",
    "<div style=\"float: right; width: 50%;\">\n",
    "<p style=\"margin: 0; padding-top: 22px; text-align:right;\">M2.981 · TFM · Aula 1</p>\n",
    "<p style=\"margin: 0; text-align:right;\">2024-2 · Màster universitari en Ciència de dades (Data science)</p>\n",
    "<p style=\"margin: 0; text-align:right; padding-button: 100px;\">Estudis d'informàtica, multimèdia i telecomunicació</p>\n",
    "</div>\n",
    "</div>\n",
    "<div style=\"width:100%;\">&nbsp;</div>\n",
    "<div style=\"text-align: center; margin-top: 40px;\">\n",
    "    <h1>Aplicación para ayuda a la conducción con deep learning</h1>\n",
    "</div>\n",
    "\n",
    "### ARCHIVO 11: Entrenamiento semáforos\n",
    "\n",
    "Entrena un modelo clasificador.\n",
    "\n",
    "Código que ejecuta el entrenamiento a partir de imágenes en carpetas definidas. Modelo a entrenar: EfficientNet B0.\n",
    "\n",
    "Código ejecutado en plataforma Visual Studio Code."
   ]
  },
  {
   "cell_type": "code",
   "execution_count": 1,
   "id": "4649cb1f",
   "metadata": {},
   "outputs": [],
   "source": [
    "# Llibreries\n",
    "\n",
    "import os\n",
    "import cv2\n",
    "import torch\n",
    "import torch.nn as nn\n",
    "from torch.utils.data import Dataset, DataLoader\n",
    "from torchvision import models, transforms\n",
    "from sklearn.model_selection import train_test_split\n",
    "from sklearn.metrics import accuracy_score, precision_score, recall_score, f1_score\n",
    "import torch.nn.functional as F"
   ]
  },
  {
   "cell_type": "code",
   "execution_count": null,
   "id": "dafb9ec2",
   "metadata": {},
   "outputs": [],
   "source": [
    "# Dades\n",
    "\n",
    "Dades = \"Semafors\"  # Carpeta amb subcarpetes per classe\n",
    "\n",
    "# Bloc per a la normalització d'imatges\n",
    "transform = transforms.Compose([\n",
    "    transforms.ToPILImage(),\n",
    "    transforms.Resize((224, 224)),\n",
    "    transforms.RandomHorizontalFlip(),\n",
    "    transforms.RandomRotation(10),\n",
    "    transforms.ColorJitter(brightness=0.2, contrast=0.2),\n",
    "    transforms.ToTensor(),\n",
    "    transforms.Normalize([0.485, 0.456, 0.406],\n",
    "                         [0.229, 0.224, 0.225])\n",
    "])"
   ]
  },
  {
   "cell_type": "code",
   "execution_count": 3,
   "id": "cfde837d",
   "metadata": {},
   "outputs": [],
   "source": [
    "# Classe per a crear un dataset\n",
    "\n",
    "class TrafficLightDataset(Dataset):\n",
    "    def __init__(self, paths, labels):\n",
    "        self.paths = paths\n",
    "        self.labels = labels\n",
    "\n",
    "    def __len__(self): return len(self.paths)\n",
    "\n",
    "    def __getitem__(self, i):\n",
    "        img = cv2.imread(self.paths[i])\n",
    "        img = cv2.cvtColor(img, cv2.COLOR_BGR2RGB)\n",
    "        img = transform(img)\n",
    "        return img, torch.tensor(self.labels[i], dtype=torch.long)"
   ]
  },
  {
   "cell_type": "code",
   "execution_count": null,
   "id": "efeb0860",
   "metadata": {},
   "outputs": [],
   "source": [
    "# Llegeix carpetes\n",
    "\n",
    "# Funció per a recopilar les imatges i torna datasets separats\n",
    "def get_data():\n",
    "    paths, labels = [], []\n",
    "    classes = sorted(os.listdir(Dades))  # Assumim subcarpetes amb nom de la classe\n",
    "    class_to_idx = {cls_name: idx for idx, cls_name in enumerate(classes)}\n",
    "    for cls in classes:\n",
    "        full_folder = os.path.join(Dades, cls)\n",
    "        for f in os.listdir(full_folder):\n",
    "            if f.lower().endswith(('jpg', 'png', 'jpeg')):\n",
    "                paths.append(os.path.join(full_folder, f))\n",
    "                labels.append(class_to_idx[cls])\n",
    "    return train_test_split(paths, labels, test_size=0.2, random_state=42), class_to_idx\n",
    "\n",
    "# Dades i loaders\n",
    "(train_paths, test_paths, train_labels, test_labels), class_to_idx = get_data()\n",
    "train_loader = DataLoader(TrafficLightDataset(train_paths, train_labels), batch_size=32, shuffle=True)\n",
    "test_loader = DataLoader(TrafficLightDataset(test_paths, test_labels), batch_size=32)"
   ]
  },
  {
   "cell_type": "code",
   "execution_count": 5,
   "id": "84627710",
   "metadata": {},
   "outputs": [
    {
     "name": "stderr",
     "output_type": "stream",
     "text": [
      "c:\\Users\\malve\\anaconda3\\Lib\\site-packages\\torchvision\\models\\_utils.py:208: UserWarning: The parameter 'pretrained' is deprecated since 0.13 and may be removed in the future, please use 'weights' instead.\n",
      "  warnings.warn(\n",
      "c:\\Users\\malve\\anaconda3\\Lib\\site-packages\\torchvision\\models\\_utils.py:223: UserWarning: Arguments other than a weight enum or `None` for 'weights' are deprecated since 0.13 and may be removed in the future. The current behavior is equivalent to passing `weights=EfficientNet_B0_Weights.IMAGENET1K_V1`. You can also use `weights=EfficientNet_B0_Weights.DEFAULT` to get the most up-to-date weights.\n",
      "  warnings.warn(msg)\n"
     ]
    }
   ],
   "source": [
    "# Càrrega model\n",
    "\n",
    "num_classes = len(class_to_idx)\n",
    "model = models.efficientnet_b0(pretrained=True)\n",
    "model.classifier[1] = nn.Linear(model.classifier[1].in_features, num_classes)\n",
    "model = model.cuda()\n",
    "\n",
    "# Paràmetres\n",
    "loss_fn = nn.CrossEntropyLoss()\n",
    "optimizer = torch.optim.Adam(model.parameters(), lr=1e-4)"
   ]
  },
  {
   "cell_type": "code",
   "execution_count": 6,
   "id": "a5e11dd9",
   "metadata": {},
   "outputs": [
    {
     "name": "stdout",
     "output_type": "stream",
     "text": [
      "Epoch 1: 1.5042\n",
      "Epoch 2: 1.1760\n",
      "Epoch 3: 0.9029\n",
      "Epoch 4: 0.7389\n",
      "Epoch 5: 0.5356\n",
      "Epoch 6: 0.4127\n",
      "Epoch 7: 0.3018\n",
      "Epoch 8: 0.2848\n",
      "Epoch 9: 0.2677\n",
      "Epoch 10: 0.1799\n",
      "Epoch 11: 0.1390\n",
      "Epoch 12: 0.1488\n",
      "Epoch 13: 0.1779\n",
      "Epoch 14: 0.1335\n",
      "Epoch 15: 0.1370\n",
      "Mètriques de validació:\n",
      "Accuracy : 0.9390243902439024\n",
      "Precision: 0.9441980783444198\n",
      "Recall   : 0.9390243902439024\n",
      "F1 Score : 0.9334221493475439\n",
      "Fi d'entrenament\n"
     ]
    }
   ],
   "source": [
    "# Entrenament\n",
    "\n",
    "model.train()\n",
    "for epoch in range(15):\n",
    "    total_loss = 0\n",
    "    for x, y in train_loader:\n",
    "        x, y = x.cuda(), y.cuda()\n",
    "        out = model(x)\n",
    "        loss = loss_fn(out, y)\n",
    "        optimizer.zero_grad()\n",
    "        loss.backward()\n",
    "        optimizer.step()\n",
    "        total_loss += loss.item()\n",
    "    print(f\"Epoch {epoch+1}: {total_loss/len(train_loader):.4f}\")\n",
    "\n",
    "torch.save(model, \"TrafficLight2.pt\")\n",
    "\n",
    "# Avaluació\n",
    "model.eval()\n",
    "y_true, y_pred = [], []\n",
    "\n",
    "with torch.no_grad():\n",
    "    for x, y in test_loader:\n",
    "        x = x.cuda()\n",
    "        out = model(x)\n",
    "        preds = out.argmax(dim=1).cpu()\n",
    "        y_true.extend(y)\n",
    "        y_pred.extend(preds)\n",
    "\n",
    "# Mètriques\n",
    "print(\"Mètriques de validació:\")\n",
    "print(\"Accuracy :\", accuracy_score(y_true, y_pred))\n",
    "print(\"Precision:\", precision_score(y_true, y_pred, average='weighted'))\n",
    "print(\"Recall   :\", recall_score(y_true, y_pred, average='weighted'))\n",
    "print(\"F1 Score :\", f1_score(y_true, y_pred, average='weighted'))\n",
    "\n",
    "print(\"Fi d'entrenament\")"
   ]
  }
 ],
 "metadata": {
  "kernelspec": {
   "display_name": "base",
   "language": "python",
   "name": "python3"
  },
  "language_info": {
   "codemirror_mode": {
    "name": "ipython",
    "version": 3
   },
   "file_extension": ".py",
   "mimetype": "text/x-python",
   "name": "python",
   "nbconvert_exporter": "python",
   "pygments_lexer": "ipython3",
   "version": "3.12.7"
  }
 },
 "nbformat": 4,
 "nbformat_minor": 5
}
