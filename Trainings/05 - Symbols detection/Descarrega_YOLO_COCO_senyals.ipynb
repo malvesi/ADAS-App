{
 "cells": [
  {
   "cell_type": "markdown",
   "metadata": {},
   "source": [
    "<div style=\"width: 100%; clear: both;\">\n",
    "<div style=\"float: left; width: 50%;\">\n",
    "<img src=\"http://www.uoc.edu/portal/_resources/common/imatges/marca_UOC/UOC_Masterbrand.jpg\", align=\"left\">\n",
    "</div>\n",
    "<div style=\"float: right; width: 50%;\">\n",
    "<p style=\"margin: 0; padding-top: 22px; text-align:right;\">M2.981 · TFM · Aula 1</p>\n",
    "<p style=\"margin: 0; text-align:right;\">2024-2 · Màster universitari en Ciència de dades (Data science)</p>\n",
    "<p style=\"margin: 0; text-align:right; padding-button: 100px;\">Estudis d'informàtica, multimèdia i telecomunicació</p>\n",
    "</div>\n",
    "</div>\n",
    "<div style=\"width:100%;\">&nbsp;</div>\n",
    "<div style=\"text-align: center; margin-top: 40px;\">\n",
    "    <h1>Aplicación para ayuda a la conducción con deep learning</h1>\n",
    "</div>\n",
    "\n",
    "### ARCHIVO 6: Descarga y adecuación de dataset de semáforos y STOPS con COCO\n",
    "\n",
    "Breve código que descarga únicamente las imágenes de semáforos y STOPS. Después, se adecua los archivos de etiquetas en formato del modelo que va a entrenar: YOLOv11n\n",
    "\n",
    "Primeramente se accede al directorio de COCO disponible en: https://cocodataset.org/#download [1]\n",
    "\n",
    "Se debe descargar las anotaciones 2017 Train/Val annotations [241MB]\n",
    "\n",
    "Se guardan los datos en: /coco/annotations\n",
    "\n",
    "\n",
    "---\n",
    "<small>\n",
    "\n",
    "<a name=\"note_paper\"></a>[1] Tarea no automatizada\n",
    "\n",
    "</small>"
   ]
  },
  {
   "cell_type": "code",
   "execution_count": null,
   "metadata": {},
   "outputs": [],
   "source": [
    "# Librerias\n",
    "\n",
    "import os\n",
    "import json\n",
    "import requests\n",
    "from tqdm import tqdm\n",
    "from pycocotools.coco import COCO"
   ]
  },
  {
   "cell_type": "code",
   "execution_count": null,
   "metadata": {},
   "outputs": [
    {
     "name": "stdout",
     "output_type": "stream",
     "text": [
      "loading annotations into memory...\n",
      "Done (t=18.12s)\n",
      "creating index...\n",
      "index created!\n"
     ]
    },
    {
     "name": "stderr",
     "output_type": "stream",
     "text": [
      "Descarregant imatges: 100%|██████████| 5705/5705 [1:03:48<00:00,  1.49it/s]"
     ]
    },
    {
     "name": "stdout",
     "output_type": "stream",
     "text": [
      "Descarregades 5705 imatges de semàfors i STOPS a coco_filtered/images/.\n"
     ]
    },
    {
     "name": "stderr",
     "output_type": "stream",
     "text": [
      "\n"
     ]
    }
   ],
   "source": [
    "# Direccions\n",
    "annotations_path = \"coco/annotations/instances_train2017.json\" # Arxiu d'anotacions de COCO\n",
    "output_dir = \"coco_filtered/images/\"                           # Directiu on es guarden les imatges\n",
    "coco_url = \"http://images.cocodataset.org/train2017/\"          # Versió de dades de COCO descarregada\n",
    "\n",
    "# Dades COCO\n",
    "coco = COCO(annotations_path)\n",
    "target_categories = [10, 13] # Selecció únicament de (semàfor: 10, stop: 13)\n",
    "\n",
    "# Es crea llistat d'ID amb les imatges filtrades a descarregar\n",
    "image_ids = set()\n",
    "\n",
    "for cat_id in target_categories:\n",
    "    image_ids.update(coco.getImgIds(catIds=[cat_id]))\n",
    "\n",
    "images_info = coco.loadImgs(list(image_ids))\n",
    "\n",
    "# Descarregar imatges\n",
    "for img_info in tqdm(images_info, desc=\"Descarregant imatges\"):\n",
    "    img_url = coco_url + img_info[\"file_name\"]\n",
    "    img_path = os.path.join(output_dir, img_info[\"file_name\"])\n",
    "\n",
    "    # Descarregar només si no existeix\n",
    "    if not os.path.exists(img_path):\n",
    "        response = requests.get(img_url, stream=True)\n",
    "        if response.status_code == 200:\n",
    "            with open(img_path, \"wb\") as f:\n",
    "                for chunk in response.iter_content(1024):\n",
    "                    f.write(chunk)\n",
    "\n",
    "print(f\"Descarregades {len(images_info)} imatges de semàfors i STOPS a {output_dir}.\")"
   ]
  },
  {
   "cell_type": "code",
   "execution_count": null,
   "metadata": {},
   "outputs": [
    {
     "name": "stdout",
     "output_type": "stream",
     "text": [
      "loading annotations into memory...\n",
      "Done (t=17.69s)\n",
      "creating index...\n",
      "index created!\n",
      "Conversió completada! Anotacions guardades a coco_filtered/labels/\n"
     ]
    }
   ],
   "source": [
    "# Adequació etiquetes\n",
    "labels_path = \"coco_filtered/labels/\"\n",
    "\n",
    "# Dades COCO\n",
    "coco = COCO(annotations_path)\n",
    "target_categories = {3: 0, 4: 1}  # ID per YOLO (0 = Semàfor, 1 = STOP)\n",
    "\n",
    "image_filenames = set(os.listdir(output_dir)) # S'agafa únicament les etiquetes de les imatges descarregades\n",
    "image_ids = {img[\"id\"]: img[\"file_name\"] for img in coco.loadImgs(coco.getImgIds()) if img[\"file_name\"] in image_filenames} # Diccionari bucle\n",
    "\n",
    "# Funció per convertir BBox COCO a YOLO\n",
    "def coco_to_yolo_bbox(bbox, img_w, img_h):\n",
    "    '''\n",
    "    Funció que canvia el format etiqueta COCO per YOLO.\n",
    "\n",
    "    COCO:\n",
    "    bbox són les dades de l'objecte, la 'caixa'.\n",
    "    referent:   x coordenada superior esquerra de la bbox\n",
    "                y coordenada superior esquerra de la bbox\n",
    "                w amplada de la bbox\n",
    "                h alçada de la bbox\n",
    "    img_w i img_h amplada i alçada de la imatge.\n",
    "\n",
    "    YOLO:\n",
    "    Necessita punt central en X i Y i després amplada i alçada de la bbox. s'ha de normalitzar entre 0 i 1.\n",
    "\n",
    "    Entrada: \n",
    "        - bbox: posicio_inicial_x, posicio_inicial_y, amplada, alçada\n",
    "        - img_w: amplada imatge\n",
    "        - img_h: alçada imatge\n",
    "\n",
    "    Sortida:\n",
    "        - posicio_central_x posicio_central_y amplada alçada\n",
    "    '''\n",
    "\n",
    "    # Variables\n",
    "    x, y, w, h = bbox\n",
    "\n",
    "    # Càlcul posicions relatives\n",
    "    x_center = (x + w / 2) / img_w\n",
    "    y_center = (y + h / 2) / img_h\n",
    "    w = w / img_w\n",
    "    h = h / img_h\n",
    "\n",
    "    return f\"{x_center} {y_center} {w} {h}\"\n",
    "\n",
    "# Normalització anotacions\n",
    "for img_id, img_filename in image_ids.items():\n",
    "\n",
    "    img_info = coco.loadImgs(img_id)[0] # Carrega imatge\n",
    "    img_w, img_h = img_info[\"width\"], img_info[\"height\"] # Alçada i Amplada\n",
    "\n",
    "    ann_ids = coco.getAnnIds(imgIds=[img_id], catIds=list(target_categories.keys())) # Obtè anoracions cotxes i moto\n",
    "    anns = coco.loadAnns(ann_ids) #obtè les dades\n",
    "\n",
    "    # Crear label\n",
    "    label_filename = img_filename.replace(\".jpg\", \".txt\")\n",
    "    label_path = os.path.join(labels_path, label_filename)\n",
    "\n",
    "    # Es posen les dades\n",
    "    with open(label_path, \"w\") as f:\n",
    "        for ann in anns:\n",
    "            category_id = target_categories[ann[\"category_id\"]] # Index nou\n",
    "            bbox = coco_to_yolo_bbox(ann[\"bbox\"], img_w, img_h)\n",
    "            f.write(f\"{category_id} {bbox}\\n\")"
   ]
  }
 ],
 "metadata": {
  "kernelspec": {
   "display_name": "base",
   "language": "python",
   "name": "python3"
  },
  "language_info": {
   "codemirror_mode": {
    "name": "ipython",
    "version": 3
   },
   "file_extension": ".py",
   "mimetype": "text/x-python",
   "name": "python",
   "nbconvert_exporter": "python",
   "pygments_lexer": "ipython3",
   "version": "3.12.7"
  }
 },
 "nbformat": 4,
 "nbformat_minor": 2
}
